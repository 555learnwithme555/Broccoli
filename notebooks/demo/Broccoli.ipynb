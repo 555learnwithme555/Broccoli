{
 "cells": [
  {
   "cell_type": "markdown",
   "metadata": {},
   "source": [
    "\n",
    "# Broccoli - distributed task queues for ESP32 cluster\n",
    "[GitHub repo.](https://github.com/Wei1234c/Broccoli)\n",
    "\n",
    "Wei Lin  \n",
    "2018-03-27  \n",
    "\n",
    "![Broccoli](https://raw.githubusercontent.com/Wei1234c/Broccoli/master/jpgs/Broccoli_cluster_cover.gif)  \n",
    "\n",
    "## [出發點與目標]\n",
    "\n",
    "\n",
    "\n",
    " \n",
    "\n",
    "## [想法]\n",
    "\n",
    "\n",
    "\n",
    "\n",
    "## [作法與特色]\n",
    "\n",
    "\n",
    "\n",
    "\n",
    "\n",
    "## [實驗步驟]\n",
    " \n",
    "\n",
    "\n",
    "\n",
    "\n",
    "## [效果]\n",
    "\n",
    "![Broccoli](https://raw.githubusercontent.com/Wei1234c/Broccoli/master/jpgs/Broccoli_cluster_cover1.jpg)\n",
    "\n",
    "[![ROS chatters on Windows](https://raw.githubusercontent.com/Wei1234c/Broccoli/master/jpgs/youtube.jpeg)](https://youtu.be/LbiSnh8w1kM)  \n",
    "\n",
    "\n",
    "## [應用]\n",
    "\n",
    "\n",
    "\n",
    "\n",
    "## [Notes]\n",
    "\n",
    "\n"
   ]
  },
  {
   "cell_type": "code",
   "execution_count": null,
   "metadata": {},
   "outputs": [],
   "source": []
  }
 ],
 "metadata": {
  "kernelspec": {
   "display_name": "Python 3",
   "language": "python",
   "name": "python3"
  },
  "language_info": {
   "codemirror_mode": {
    "name": "ipython",
    "version": 3
   },
   "file_extension": ".py",
   "mimetype": "text/x-python",
   "name": "python",
   "nbconvert_exporter": "python",
   "pygments_lexer": "ipython3",
   "version": "3.6.5"
  }
 },
 "nbformat": 4,
 "nbformat_minor": 2
}
